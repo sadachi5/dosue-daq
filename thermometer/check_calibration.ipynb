{
 "cells": [
  {
   "cell_type": "code",
   "execution_count": 1,
   "id": "36d1df93",
   "metadata": {},
   "outputs": [],
   "source": [
    "import os\n",
    "import sys\n",
    "import numpy as np\n",
    "from matplotlib import pyplot as plt\n"
   ]
  },
  {
   "cell_type": "markdown",
   "id": "add27a0c",
   "metadata": {},
   "source": [
    "## data files"
   ]
  },
  {
   "cell_type": "code",
   "execution_count": 5,
   "id": "5d923505",
   "metadata": {},
   "outputs": [],
   "source": [
    "input_dir = '/data/lakeshore218'\n",
    "input_files = [f'{input_dir}/data_2022-07-21.dat', f'{input_dir}/data_2022-07-22.dat']\n",
    "channels = [1,2,3,4]"
   ]
  },
  {
   "cell_type": "markdown",
   "id": "e5c8e5aa",
   "metadata": {},
   "source": [
    "## Retrieve datas"
   ]
  },
  {
   "cell_type": "code",
   "execution_count": 8,
   "id": "696b567a",
   "metadata": {},
   "outputs": [
    {
     "name": "stdout",
     "output_type": "stream",
     "text": [
      "full data (size = 19148)= [['1658377781' '2022/07/21' '13:29:41' ... '8ch' '0.000000' '0.000000']\n",
      " ['1658377786' '2022/07/21' '13:29:46' ... '8ch' '0.000000' '0.000000']\n",
      " ['1658377790' '2022/07/21' '13:29:50' ... '8ch' '0.000000' '0.000000']\n",
      " ...\n",
      " ['1658468048' '2022/07/22' '14:34:08' ... '8ch' '0.000000' '0.000000']\n",
      " ['1658468052' '2022/07/22' '14:34:12' ... '8ch' '0.000000' '0.000000']\n",
      " ['1658468057' '2022/07/22' '14:34:17' ... '8ch' '0.000000' '0.000000']]\n",
      "time = [1658377781 1658377786 1658377790 ... 1658468048 1658468052 1658468057]\n",
      "temp = [[297.24 297.24 297.24 ... 219.68 219.72 219.74]\n",
      " [297.15 297.15 297.15 ... 219.66 219.69 219.72]\n",
      " [296.56 296.56 296.56 ... 219.19 219.23 219.26]\n",
      " [  0.     0.     0.   ...   0.     0.     0.  ]]\n",
      "raw = [[0.566  0.566  0.566  ... 0.7408 0.7407 0.7406]\n",
      " [0.5662 0.5662 0.5662 ... 0.7408 0.7407 0.7407]\n",
      " [0.5676 0.5676 0.5676 ... 0.7418 0.7418 0.7417]\n",
      " [0.     0.     0.     ... 0.     0.     0.    ]]\n"
     ]
    }
   ],
   "source": [
    "# read files\n",
    "inputdata = None\n",
    "for i, _filename in enumerate(input_files):\n",
    "    _file = open(_filename)\n",
    "    _inputdata = np.loadtxt(_file, delimiter=' ', comments='#', dtype=str)\n",
    "    _file.close()\n",
    "    if i == 0: inputdata = _inputdata\n",
    "    else: inputdata = np.concatenate([inputdata, _inputdata])\n",
    "    pass\n",
    "print(f'full data (size = {len(inputdata)})= {inputdata}')\n",
    "\n",
    "# retrieve data\n",
    "time = []\n",
    "temp_data = [[] for c in channels]\n",
    "raw_data = [[] for c in channels]\n",
    "for _inputdata in inputdata:\n",
    "    time.append( int(_inputdata[0]) )\n",
    "    for i, c in enumerate(channels):\n",
    "        temp_data[i].append( float(_inputdata[3+c*3+1]) )\n",
    "        raw_data[i].append(  float(_inputdata[3+c*3+2]) )\n",
    "        pass\n",
    "    pass\n",
    "time = np.array(time)\n",
    "temp_data = np.array(temp_data)\n",
    "raw_data = np.array(raw_data)\n",
    "print(f'time = {time}')\n",
    "print(f'temp = {temp_data}')\n",
    "print(f'raw = {raw_data}')"
   ]
  },
  {
   "cell_type": "markdown",
   "id": "e3185cee",
   "metadata": {},
   "source": [
    "## Plot all datas"
   ]
  },
  {
   "cell_type": "code",
   "execution_count": null,
   "id": "60dc1798",
   "metadata": {},
   "outputs": [],
   "source": [
    "for c \n",
    "plt.plot(time, temp)"
   ]
  }
 ],
 "metadata": {
  "kernelspec": {
   "display_name": "Python 3 (ipykernel)",
   "language": "python",
   "name": "python3"
  },
  "language_info": {
   "codemirror_mode": {
    "name": "ipython",
    "version": 3
   },
   "file_extension": ".py",
   "mimetype": "text/x-python",
   "name": "python",
   "nbconvert_exporter": "python",
   "pygments_lexer": "ipython3",
   "version": "3.8.10"
  },
  "toc": {
   "base_numbering": 1,
   "nav_menu": {},
   "number_sections": true,
   "sideBar": true,
   "skip_h1_title": false,
   "title_cell": "Table of Contents",
   "title_sidebar": "Contents",
   "toc_cell": false,
   "toc_position": {},
   "toc_section_display": true,
   "toc_window_display": false
  }
 },
 "nbformat": 4,
 "nbformat_minor": 5
}
